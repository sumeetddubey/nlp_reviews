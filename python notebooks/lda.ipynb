{
 "cells": [
  {
   "cell_type": "code",
   "execution_count": 1,
   "metadata": {
    "collapsed": false
   },
   "outputs": [],
   "source": [
    "import os\n",
    "import re\n",
    "import fnmatch\n",
    "import pandas as pd\n",
    "import numpy as np\n",
    "from sklearn.feature_extraction.text import TfidfVectorizer, CountVectorizer\n",
    "from sklearn.decomposition import LatentDirichletAllocation\n",
    "from sklearn.metrics.pairwise import cosine_similarity\n",
    "import string\n",
    "\n",
    "def vectorize(df):\n",
    "    nFeatures=1000\n",
    "    tf_vectorizer = CountVectorizer(max_df=0.85, min_df=0.2,\n",
    "                                max_features=nFeatures,\n",
    "                                stop_words='english')\n",
    "    tf = tf_vectorizer.fit_transform(df)\n",
    "    features = tf_vectorizer.get_feature_names()\n",
    "    return (tf, features)\n",
    "\n",
    "def runLDA(n, iters, wordMat):\n",
    "    print('Number of inputs:', np.shape(wordMat)[0], '\\n')\n",
    "    lda = LatentDirichletAllocation(n_topics=n, max_iter=5,\n",
    "                                learning_method='batch',\n",
    "                                learning_offset=50.,\n",
    "                                random_state=0)\n",
    "    lda=lda.fit(wordMat)\n",
    "    return lda\n",
    "    \n",
    "def print_top_words(model, feature_names, n_top_words):\n",
    "    for topic_idx, topic in enumerate(model.components_):\n",
    "        print(\"Topic %d:\" % (topic_idx+1))\n",
    "        print(\" \".join([feature_names[i]\n",
    "                        for i in topic.argsort()[:-n_top_words - 1:-1]]))\n",
    "    print()\n",
    "    \n",
    "def print_topics(components, pred, features):\n",
    "    pred=list(pred[0])\n",
    "    topic_index=pred.index(max(pred))\n",
    "    topic=components[topic_index]\n",
    "    print(\" \".join([features[i] for i in topic.argsort()[:-10 - 1:-1]]))\n",
    "    print()\n",
    "    \n",
    "def predLDA(x, wordMat, features, model):\n",
    "    print(x[['Name', 'Genre', 'Console']])\n",
    "    r=wordMat[x.index.get_values()[0]]\n",
    "    topics=lda.transform(r)\n",
    "    print_topics(lda.components_, topics, features)\n",
    "\n",
    "def getSimilarGames(gameIndex, df, wordMat, lda): \n",
    "    mat1=wordMat.todense()\n",
    "    mat2=np.linalg.pinv(lda.components_)\n",
    "    x=mat1*mat2\n",
    "    cos=cosine_similarity(x)\n",
    "    game1=cos[gameIndex]\n",
    "    probs_sorted=sorted(game1, reverse=True)\n",
    "\n",
    "    ipGame=df.iloc[gameIndex]  \n",
    "    i=0\n",
    "    sim_games=[]\n",
    "    lstGames=set()\n",
    "    lstGames.add(ipGame[0])\n",
    "    print('Input Game:')\n",
    "    print(df.iloc[gameIndex], '\\n')\n",
    "    while(len(lstGames)<=5):\n",
    "        index=int(np.where(game1==probs_sorted[i])[0][0])\n",
    "        currentGame=df.iloc[index]\n",
    "        if currentGame[0] not in lstGames:\n",
    "            sim_games.append(df.iloc[index])\n",
    "            lstGames.add(currentGame[0])\n",
    "        i+=1\n",
    "    \n",
    "    print('Most similar games:')\n",
    "    for game in sim_games:\n",
    "        print(game)\n",
    "        print()  "
   ]
  },
  {
   "cell_type": "markdown",
   "metadata": {},
   "source": [
    "### Creating a pandas dataframe out of our dataset of reviews "
   ]
  },
  {
   "cell_type": "code",
   "execution_count": 2,
   "metadata": {
    "collapsed": false
   },
   "outputs": [],
   "source": [
    "df=pd.DataFrame(columns=['Name', 'Publisher', 'GameSpotScore', 'Review', 'Console', 'Genre'])\n",
    "\n",
    "i=0\n",
    "for dirpath, dirs, files in os.walk('dataset/reviews'):   \n",
    "    for file in fnmatch.filter(files, '*.txt'):\n",
    "        with open(os.path.join(dirpath, file), 'r') as ip:\n",
    "            data=ip.read()\n",
    "            name=re.findall(r':::Game Name:::(.*?)-----', data, re.DOTALL)[0].strip()\n",
    "            review=re.findall(r':::Review:::(.*?)-----',data, re.DOTALL)[0].strip()\n",
    "            scores=re.findall(r':::Scores:::(.*?)-----',data, re.DOTALL)[0]\n",
    "            addition=re.findall(r':::Addition:::(.*?)-----',data, re.DOTALL)[0]\n",
    "            gsScore=re.findall(r'GameSpot Score:(.*?)\\n', scores)[0]\n",
    "            review = review.lower()\n",
    "            tVar = str.maketrans('', '', string.punctuation)\n",
    "            review = review.translate(tVar)\n",
    "            try:\n",
    "                pub=re.findall(r'Publisher:(.*?)\\n', addition)[0]\n",
    "            except:\n",
    "                pub=''\n",
    "            try:\n",
    "                genre=re.findall(r'Genre:(.*?)\\n', addition)[0]\n",
    "            except:\n",
    "                genre=''\n",
    "            console=dirpath.strip('dataset/reviews/')\n",
    "            df.loc[i]=[name, pub, gsScore, review, console, genre]\n",
    "            i+=1"
   ]
  },
  {
   "cell_type": "markdown",
   "metadata": {},
   "source": [
    "###  Running LDA to get topics. Choosing number of topics = 10 and word per topic = 10"
   ]
  },
  {
   "cell_type": "code",
   "execution_count": 3,
   "metadata": {
    "collapsed": false
   },
   "outputs": [
    {
     "name": "stdout",
     "output_type": "stream",
     "text": [
      "Number of inputs: 8278 \n",
      "\n",
      "Topic 1:\n",
      "weapons missions weapon levels action graphics use different effects variety\n",
      "Topic 2:\n",
      "3d graphics engine gameplay series mode multiplayer players missions play\n",
      "Topic 3:\n",
      "youre play youll theres way isnt really fun lot good\n",
      "Topic 4:\n",
      "combat multiplayer weapons singleplayer action weapon different enemies pretty youll\n",
      "Topic 5:\n",
      "new missions youll multiplayer original features players great good play\n",
      "Topic 6:\n",
      "original new gameplay mode make play map experience theres makes\n",
      "Topic 7:\n",
      "youll youre good youve way make great new action dont\n",
      "Topic 8:\n",
      "new mode years play players online year player youre youll\n",
      "Topic 9:\n",
      "youll enemy youre challenge play level multiplayer xbox enemies bad\n",
      "Topic 10:\n",
      "world new series youll make theres way youre previous look\n",
      "Topic 11:\n",
      "players player team play youll online gameplay youre mode playing\n",
      "Topic 12:\n",
      "levels level youll enemies way youre make action use jump\n",
      "Topic 13:\n",
      "battle battles combat youll map attack different new enemy play\n",
      "Topic 14:\n",
      "fighting characters mode moves fight character series attacks different play\n",
      "Topic 15:\n",
      "play classic screen music original youre little graphics fun make\n",
      "Topic 16:\n",
      "youll speed mode different pretty look sound need good series\n",
      "Topic 17:\n",
      "level youll gameplay levels theres isnt bad sound youre characters\n",
      "Topic 18:\n",
      "mode world youll online different challenge really little play good\n",
      "Topic 19:\n",
      "youll characters enemies character action attacks attack story combat use\n",
      "Topic 20:\n",
      "missions mission youll enemy youre control enemies play team good\n",
      "Topic 21:\n",
      "version xbox versions youll playstation new good youre way series\n",
      "Topic 22:\n",
      "pretty youll youre story good really action lot isnt look\n",
      "Topic 23:\n",
      "character characters make youll play different experience items players order\n",
      "Topic 24:\n",
      "track mode youll youre speed series damage course multiplayer make\n",
      "Topic 25:\n",
      "mode youll modes play series youre multiplayer screen players different\n",
      "\n"
     ]
    }
   ],
   "source": [
    "n=25\n",
    "iters=5\n",
    "nWords=10\n",
    "wordMat, features=vectorize(df['Review'])\n",
    "lda=runLDA(n, iters, wordMat)\n",
    "print_top_words(lda, features, nWords)"
   ]
  },
  {
   "cell_type": "markdown",
   "metadata": {},
   "source": [
    "### Running lda only on top 10 publishers having maximum game releases"
   ]
  },
  {
   "cell_type": "code",
   "execution_count": 4,
   "metadata": {
    "collapsed": false
   },
   "outputs": [
    {
     "name": "stdout",
     "output_type": "stream",
     "text": [
      "Number of inputs: 3017 \n",
      "\n",
      "Topic 1:\n",
      "characters enemies character story action fight attacks good attack fighting\n",
      "Topic 2:\n",
      "new missions youre combat mission enemy weapons make good original\n",
      "Topic 3:\n",
      "youre good pretty version missions action multiplayer enemy pc xbox\n",
      "Topic 4:\n",
      "mode years new year online xbox youre play players version\n",
      "Topic 5:\n",
      "youre levels version characters enemies use make way story level\n",
      "Topic 6:\n",
      "players play mode player new team youre sports teams series\n",
      "Topic 7:\n",
      "youre mode series different speed really need theres good new\n",
      "Topic 8:\n",
      "mode players gameplay play good player youre make solid modes\n",
      "Topic 9:\n",
      "levels level mode play version original multiplayer gameplay classic console\n",
      "Topic 10:\n",
      "team players new play online characters different world character youre\n",
      "\n"
     ]
    }
   ],
   "source": [
    "df2=df[['Name', 'Publisher']].groupby(['Publisher']).count()\n",
    "df2=df2.sort_values(['Name'], ascending=False).head(10)\n",
    "topPubs= (list(df2.axes[0]))\n",
    "topPubReviewsDf=df[df['Publisher'].isin(topPubs)]\n",
    "\n",
    "n=10\n",
    "iters=5\n",
    "nWords=10\n",
    "wordMat, features=vectorize(topPubReviewsDf['Review'])\n",
    "lda=runLDA(n, iters, wordMat)\n",
    "print_top_words(lda, features, nWords)"
   ]
  },
  {
   "cell_type": "markdown",
   "metadata": {},
   "source": [
    "### Running for games that have a GameSpot Rating of 8 or above"
   ]
  },
  {
   "cell_type": "code",
   "execution_count": 5,
   "metadata": {
    "collapsed": false
   },
   "outputs": [
    {
     "name": "stdout",
     "output_type": "stream",
     "text": [
      "Number of inputs: 2067 \n",
      "\n",
      "Topic 1:\n",
      "combat campaign strategy battle enemy missions multiplayer battles mission different\n",
      "Topic 2:\n",
      "version pc xbox youre missions good versions great action need\n",
      "Topic 3:\n",
      "characters story character youre make different good great way theres\n",
      "Topic 4:\n",
      "players player mode years new team year control make right\n",
      "Topic 5:\n",
      "players youre mode online team player teams make different sports\n",
      "Topic 6:\n",
      "new original make players youre features theres great better world\n",
      "Topic 7:\n",
      "mode new really series good years way great youre sports\n",
      "Topic 8:\n",
      "characters character players fighting mode team online different skills gameplay\n",
      "Topic 9:\n",
      "mode series new youre different tracks speed track online way\n",
      "Topic 10:\n",
      "action weapons enemies missions youre good way use different multiplayer\n",
      "\n"
     ]
    }
   ],
   "source": [
    "df['GameSpotScore'] =pd.to_numeric(df['GameSpotScore'])\n",
    "topDf=df[df['GameSpotScore']>=8]\n",
    "\n",
    "n=10\n",
    "iters=5\n",
    "nWords=10\n",
    "wordMat, features=vectorize(topDf['Review'])\n",
    "lda=runLDA(n, iters, wordMat)\n",
    "print_top_words(lda, features, nWords)"
   ]
  },
  {
   "cell_type": "markdown",
   "metadata": {},
   "source": [
    "### Running for games that have a GameSpot Rating of 4 or below"
   ]
  },
  {
   "cell_type": "code",
   "execution_count": 14,
   "metadata": {
    "collapsed": false
   },
   "outputs": [
    {
     "name": "stdout",
     "output_type": "stream",
     "text": [
      "Number of inputs: 590 \n",
      "\n",
      "Topic 1:\n",
      "bad play theres action enemy youll pretty characters character look\n",
      "Topic 2:\n",
      "youll enemies combat characters action attack time youre level levels\n",
      "Topic 3:\n",
      "youre theres way actually going time big little new things\n",
      "Topic 4:\n",
      "mode play youll time youre button fun players gameplay different\n",
      "Topic 5:\n",
      "levels world mode time level youll gameplay make sound play\n",
      "Topic 6:\n",
      "level isnt gameplay fun little youll way really thats play\n",
      "Topic 7:\n",
      "youll time play theres players youre thats way bad look\n",
      "Topic 8:\n",
      "missions mission youre enemy way combat enemies isnt time make\n",
      "Topic 9:\n",
      "good youre make doesnt dont sound lot youll need hard\n",
      "Topic 10:\n",
      "version original screen graphics new youll little use need make\n",
      "\n"
     ]
    }
   ],
   "source": [
    "df['GameSpotScore'] =pd.to_numeric(df['GameSpotScore'])\n",
    "botDf=df[df['GameSpotScore']<=4]\n",
    "n=10\n",
    "iters=5\n",
    "nWords=10\n",
    "wordMat, features=vectorize(botDf['Review'])\n",
    "lda=runLDA(n, iters, wordMat)\n",
    "print_top_words(lda, features, nWords)"
   ]
  },
  {
   "cell_type": "markdown",
   "metadata": {},
   "source": [
    "### Filtering dataset based on Genres and performing LDA on top 5 genres"
   ]
  },
  {
   "cell_type": "code",
   "execution_count": 7,
   "metadata": {
    "collapsed": false
   },
   "outputs": [
    {
     "name": "stdout",
     "output_type": "stream",
     "text": [
      " Action\n",
      "Number of inputs: 492 \n",
      "\n",
      "Topic 1:\n",
      "games play like players just multiplayer way graphics new time\n",
      "Topic 2:\n",
      "levels games enemies youll level like action character boss characters\n",
      "Topic 3:\n",
      "mode new youre youll like play theres fun just battle\n",
      "Topic 4:\n",
      "youll just youre like time action games make play characters\n",
      "Topic 5:\n",
      "level levels time gameplay simple good make games pretty youll\n",
      "\n",
      " Adventure\n",
      "Number of inputs: 341 \n",
      "\n",
      "Topic 1:\n",
      "adventure puzzles time just youre make way youll characters great\n",
      "Topic 2:\n",
      "time just make play way bad youre fun isnt level\n",
      "Topic 3:\n",
      "youll time just youre characters new theres story series adventure\n",
      "Topic 4:\n",
      "puzzles adventure characters youll story just good puzzle little make\n",
      "Topic 5:\n",
      "just characters good youre gameplay make really story actually time\n",
      "\n",
      " Strategy\n",
      "Number of inputs: 322 \n",
      "\n",
      "Topic 1:\n",
      "units strategy missions realtime mission 3d enemy unit new good\n",
      "Topic 2:\n",
      "youll just youre time make play theres need new different\n",
      "Topic 3:\n",
      "units war unit combat strategy world new map play gameplay\n",
      "Topic 4:\n",
      "new play building build want fun just good place time\n",
      "Topic 5:\n",
      "ii combat battle battles scenarios command time interface campaign just\n",
      "\n",
      " Role-Playing\n",
      "Number of inputs: 292 \n",
      "\n",
      "Topic 1:\n",
      "new character different original quests good world combat play roleplaying\n",
      "Topic 2:\n",
      "battle attacks use special abilities new attack series able power\n",
      "Topic 3:\n",
      "battle story fantasy final battles world character enemies roleplaying youre\n",
      "Topic 4:\n",
      "dungeon theres youre dungeons way good rpg combat pretty doesnt\n",
      "Topic 5:\n",
      "character combat magic youre monsters spells roleplaying points world rpg\n",
      "\n",
      " 3D Platformer\n",
      "Number of inputs: 269 \n",
      "\n",
      "Topic 1:\n",
      "pretty level characters little good really platformer lot levels sound\n",
      "Topic 2:\n",
      "new enemies combat level story youre use good way different\n",
      "Topic 3:\n",
      "version youre film levels minigames use story enemies characters missions\n",
      "Topic 4:\n",
      "3d gameplay levels world level enemies players boss original characters\n",
      "Topic 5:\n",
      "levels adventure movie way action characters level camera thats film\n",
      "\n"
     ]
    }
   ],
   "source": [
    "genres=df[['Name']].groupby(df['Genre']).count()\n",
    "genres=genres.sort_values(['Name'], ascending=False).head(5)\n",
    "genres=list(genres.axes[0])\n",
    "\n",
    "for genre in genres:\n",
    "    df_genre=df[(df['Genre'] == genre)]\n",
    "    print(genre)\n",
    "    n=5\n",
    "    iters=5\n",
    "    nWords=10\n",
    "    wordMat, features=vectorize(df_genre['Review'])\n",
    "    lda=runLDA(n, iters, wordMat)\n",
    "    print_top_words(lda, features, nWords)"
   ]
  },
  {
   "cell_type": "markdown",
   "metadata": {},
   "source": [
    "### Below we are trying to find similar games based on a given game. We have taken the cosine between vectors as a measure of similarity to find top 5 games with maximum similarity "
   ]
  },
  {
   "cell_type": "code",
   "execution_count": 8,
   "metadata": {
    "collapsed": false
   },
   "outputs": [
    {
     "name": "stdout",
     "output_type": "stream",
     "text": [
      "Number of inputs: 8278 \n",
      "\n"
     ]
    }
   ],
   "source": [
    "n=25\n",
    "iters=5\n",
    "wordMat, features=vectorize(df['Review'])\n",
    "lda=runLDA(n, iters, wordMat)"
   ]
  },
  {
   "cell_type": "code",
   "execution_count": 9,
   "metadata": {
    "collapsed": false
   },
   "outputs": [
    {
     "name": "stdout",
     "output_type": "stream",
     "text": [
      "Input Game:\n",
      "Name                                     Pokemon LeafGreen Version\n",
      "Publisher                                                 Nintendo\n",
      "GameSpotScore                                                  8.4\n",
      "Review           both new and longtime pokmon players will find...\n",
      "Console                                              GameBoyAdvanc\n",
      "Genre                                                 Role-Playing\n",
      "Name: 745, dtype: object \n",
      "\n",
      "Most similar games:\n",
      "Name                                       Pokemon FireRed Version\n",
      "Publisher                                                 Nintendo\n",
      "GameSpotScore                                                  8.4\n",
      "Review           both new and longtime pokmon players will find...\n",
      "Console                                              GameBoyAdvanc\n",
      "Genre                                                 Role-Playing\n",
      "Name: 744, dtype: object\n",
      "\n",
      "Name                          PQ2: Practical Intelligence Quotient\n",
      "Publisher                                                       D3\n",
      "GameSpotScore                                                  7.7\n",
      "Review           pq2 builds on the good foundation of the origi...\n",
      "Console                                                        PSP\n",
      "Genre                                                       Puzzle\n",
      "Name: 6341, dtype: object\n",
      "\n",
      "Name                                             Kingdom Hearts II\n",
      "Publisher                                              Square Enix\n",
      "GameSpotScore                                                  8.7\n",
      "Review           kingdom hearts ii is a long cameoinfused joyri...\n",
      "Console                                                        PS2\n",
      "Genre                                          Action Role-Playing\n",
      "Name: 4972, dtype: object\n",
      "\n",
      "Name                                                    CSI: Miami\n",
      "Publisher                                                  Ubisoft\n",
      "GameSpotScore                                                    6\n",
      "Review           csi miami is a copy of the previous csi game b...\n",
      "Console                                                         PC\n",
      "Genre                                                    Adventure\n",
      "Name: 1942, dtype: object\n",
      "\n",
      "Name                                  Black & White: Creature Isle\n",
      "Publisher                                                 EA Games\n",
      "GameSpotScore                                                    8\n",
      "Review           creature isle will certainly appeal to anyone ...\n",
      "Console                                                         PC\n",
      "Genre                                           Real-Time Strategy\n",
      "Name: 1688, dtype: object\n",
      "\n"
     ]
    }
   ],
   "source": [
    "gameIndex=745\n",
    "getSimilarGames(gameIndex, df, wordMat, lda)"
   ]
  },
  {
   "cell_type": "code",
   "execution_count": 10,
   "metadata": {
    "collapsed": false
   },
   "outputs": [
    {
     "name": "stdout",
     "output_type": "stream",
     "text": [
      "Input Game:\n",
      "Name                                 Grand Theft Auto: San Andreas\n",
      "Publisher                                           Rockstar Games\n",
      "GameSpotScore                                                    9\n",
      "Review           grand theft auto san andreas is a stupendous t...\n",
      "Console                                                         PC\n",
      "Genre                                      Modern Action Adventure\n",
      "Name: 2447, dtype: object \n",
      "\n",
      "Most similar games:\n",
      "Name                                           Hitman: Blood Money\n",
      "Publisher                                        Eidos Interactive\n",
      "GameSpotScore                                                  8.2\n",
      "Review           while the underlying stealth action is mostly ...\n",
      "Console                                                         PC\n",
      "Genre                                      Modern Action Adventure\n",
      "Name: 2566, dtype: object\n",
      "\n",
      "Name                                         Thief: Deadly Shadows\n",
      "Publisher                                        Eidos Interactive\n",
      "GameSpotScore                                                  8.3\n",
      "Review           like its predecessors thief deadly shadows fea...\n",
      "Console                                                       Xbox\n",
      "Genre                                     Fantasy Action Adventure\n",
      "Name: 7627, dtype: object\n",
      "\n",
      "Name                                              NCAA Football 07\n",
      "Publisher                                                EA Sports\n",
      "GameSpotScore                                                  8.2\n",
      "Review           with compelling gameplay and college atmospher...\n",
      "Console                                                    Xbox360\n",
      "Genre                                                 Football Sim\n",
      "Name: 7934, dtype: object\n",
      "\n",
      "Name             Sam & Max Episode 103: The Mole, the Mob and t...\n",
      "Publisher                                           Telltale Games\n",
      "GameSpotScore                                                  7.1\n",
      "Review           sam  maxs third episode feels shorter than the...\n",
      "Console                                                         PC\n",
      "Genre                                                    Adventure\n",
      "Name: 3446, dtype: object\n",
      "\n",
      "Name                        Grand Theft Auto: Liberty City Stories\n",
      "Publisher                                           Rockstar Games\n",
      "GameSpotScore                                                  8.6\n",
      "Review           liberty city stories has its share of minor is...\n",
      "Console                                                        PSP\n",
      "Genre                                      Modern Action Adventure\n",
      "Name: 6220, dtype: object\n",
      "\n"
     ]
    }
   ],
   "source": [
    "gameIndex=2447\n",
    "getSimilarGames(gameIndex, df, wordMat, lda)"
   ]
  },
  {
   "cell_type": "code",
   "execution_count": 11,
   "metadata": {
    "collapsed": false
   },
   "outputs": [
    {
     "name": "stdout",
     "output_type": "stream",
     "text": [
      "Input Game:\n",
      "Name                                                  Call of Duty\n",
      "Publisher                                               Activision\n",
      "GameSpotScore                                                    9\n",
      "Review           most anyone who plays games would more than li...\n",
      "Console                                                         PC\n",
      "Genre                                     Historic First-Person...\n",
      "Name: 1751, dtype: object \n",
      "\n",
      "Most similar games:\n",
      "Name                                                    25 to Life\n",
      "Publisher                                        Eidos Interactive\n",
      "GameSpotScore                                                  5.6\n",
      "Review           25 to life is a lifelessly generic shooter tha...\n",
      "Console                                                         PC\n",
      "Genre                                               Modern Shooter\n",
      "Name: 1399, dtype: object\n",
      "\n",
      "Name                                         Tom Clancy's Politika\n",
      "Publisher                                  Red Storm Entertainment\n",
      "GameSpotScore                                                  4.5\n",
      "Review           politikas low production values simplistic gam...\n",
      "Console                                                         PC\n",
      "Genre                                                      Wargame\n",
      "Name: 4043, dtype: object\n",
      "\n",
      "Name                                                        Crysis\n",
      "Publisher                                                 EA Games\n",
      "GameSpotScore                                                  9.5\n",
      "Review           crysis is visually stunning packed with intell...\n",
      "Console                                                         PC\n",
      "Genre                                       Sci-Fi First-Person...\n",
      "Name: 1935, dtype: object\n",
      "\n",
      "Name                                  Return to Castle Wolfenstein\n",
      "Publisher                                               Activision\n",
      "GameSpotScore                                                  9.2\n",
      "Review           wolfenstein is well worth it for the multiplay...\n",
      "Console                                                         PC\n",
      "Genre                                     Historic First-Person...\n",
      "Name: 3367, dtype: object\n",
      "\n",
      "Name                                                  Men of Valor\n",
      "Publisher                                                 VU Games\n",
      "GameSpotScore                                                  7.9\n",
      "Review           men of valor is a firstperson shooter set in t...\n",
      "Console                                                       Xbox\n",
      "Genre                                     Historic First-Person...\n",
      "Name: 7285, dtype: object\n",
      "\n"
     ]
    }
   ],
   "source": [
    "gameIndex=1751\n",
    "getSimilarGames(gameIndex, df, wordMat, lda)"
   ]
  },
  {
   "cell_type": "code",
   "execution_count": 12,
   "metadata": {
    "collapsed": false
   },
   "outputs": [
    {
     "name": "stdout",
     "output_type": "stream",
     "text": [
      "Input Game:\n",
      "Name                                              FIFA Soccer 2005\n",
      "Publisher                                                EA Sports\n",
      "GameSpotScore                                                  8.8\n",
      "Review           this is ea sports best soccer game to date on ...\n",
      "Console                                                        PS2\n",
      "Genre                                                   Soccer Sim\n",
      "Name: 4763, dtype: object \n",
      "\n",
      "Most similar games:\n",
      "Name                                                FIFA Soccer 06\n",
      "Publisher                                                EA Sports\n",
      "GameSpotScore                                                    9\n",
      "Review           fifa 06 adds plenty of new features that help ...\n",
      "Console                                                        PS2\n",
      "Genre                                                   Soccer Sim\n",
      "Name: 4758, dtype: object\n",
      "\n",
      "Name                                 World Soccer Winning Eleven 9\n",
      "Publisher                                                   Konami\n",
      "GameSpotScore                                                  9.1\n",
      "Review           winning eleven 9 plays an incredibly realistic...\n",
      "Console                                                        PS2\n",
      "Genre                                                   Soccer Sim\n",
      "Name: 5790, dtype: object\n",
      "\n",
      "Name                                                    Top Spin 2\n",
      "Publisher                                                2K Sports\n",
      "GameSpotScore                                                  8.2\n",
      "Review           top spin 2 has no ambition to redefine how ten...\n",
      "Console                                                    Xbox360\n",
      "Genre                                                       Tennis\n",
      "Name: 8068, dtype: object\n",
      "\n",
      "Name                                                FIFA 07 Soccer\n",
      "Publisher                                                EA Sports\n",
      "GameSpotScore                                                  8.4\n",
      "Review           fifa 07 plays a fastpaced and realistic game o...\n",
      "Console                                                        PS2\n",
      "Genre                                                   Soccer Sim\n",
      "Name: 4756, dtype: object\n",
      "\n",
      "Name                   World Soccer Winning Eleven 8 International\n",
      "Publisher                                                   Konami\n",
      "GameSpotScore                                                  8.7\n",
      "Review           world soccer winning eleven 8 international is...\n",
      "Console                                                         PC\n",
      "Genre                                                   Soccer Sim\n",
      "Name: 4327, dtype: object\n",
      "\n"
     ]
    }
   ],
   "source": [
    "gameIndex=4763\n",
    "getSimilarGames(gameIndex, df, wordMat, lda)"
   ]
  },
  {
   "cell_type": "code",
   "execution_count": 13,
   "metadata": {
    "collapsed": false
   },
   "outputs": [
    {
     "name": "stdout",
     "output_type": "stream",
     "text": [
      "Input Game:\n",
      "Name                                            Forza Motorsport 2\n",
      "Publisher                                   Microsoft Game Studios\n",
      "GameSpotScore                                                  9.2\n",
      "Review           forza 2 delivers on nearly every aspect youd w...\n",
      "Console                                                    Xbox360\n",
      "Genre                                           GT / Street Racing\n",
      "Name: 7844, dtype: object \n",
      "\n",
      "Most similar games:\n",
      "Name                                              Forza Motorsport\n",
      "Publisher                                   Microsoft Game Studios\n",
      "GameSpotScore                                                  9.2\n",
      "Review           forza motorsport is a stylish and challenging ...\n",
      "Console                                                       Xbox\n",
      "Genre                                           GT / Street Racing\n",
      "Name: 7152, dtype: object\n",
      "\n",
      "Name                                       Gran Turismo 5 Prologue\n",
      "Publisher                                                     SCEA\n",
      "GameSpotScore                                                  7.5\n",
      "Review           gran turismo 5 prologue may be only a practice...\n",
      "Console                                                        PS3\n",
      "Genre                                           GT / Street Racing\n",
      "Name: 5897, dtype: object\n",
      "\n",
      "Name                                            Test Drive Le Mans\n",
      "Publisher                                               Infogrames\n",
      "GameSpotScore                                                  6.7\n",
      "Review           test drive le mans should be more than enough ...\n",
      "Console                                                         PC\n",
      "Genre                                           GT / Street Racing\n",
      "Name: 3841, dtype: object\n",
      "\n",
      "Name                                         Baja: Edge of Control\n",
      "Publisher                                                      THQ\n",
      "GameSpotScore                                                  7.5\n",
      "Review           this ambitious racing game delivers a rewardin...\n",
      "Console                                                    Xbox360\n",
      "Genre                                       Rally / Offroad Racing\n",
      "Name: 7753, dtype: object\n",
      "\n",
      "Name                                                    MotorStorm\n",
      "Publisher                                                     SCEA\n",
      "GameSpotScore                                                  7.9\n",
      "Review           motorstorms rampageous brand of racing is a gr...\n",
      "Console                                                        PS3\n",
      "Genre                                       Rally / Offroad Racing\n",
      "Name: 5938, dtype: object\n",
      "\n"
     ]
    }
   ],
   "source": [
    "gameIndex=7844\n",
    "getSimilarGames(gameIndex, df, wordMat, lda)"
   ]
  },
  {
   "cell_type": "code",
   "execution_count": null,
   "metadata": {
    "collapsed": true
   },
   "outputs": [],
   "source": []
  }
 ],
 "metadata": {
  "kernelspec": {
   "display_name": "Python 3",
   "language": "python",
   "name": "python3"
  },
  "language_info": {
   "codemirror_mode": {
    "name": "ipython",
    "version": 3
   },
   "file_extension": ".py",
   "mimetype": "text/x-python",
   "name": "python",
   "nbconvert_exporter": "python",
   "pygments_lexer": "ipython3",
   "version": "3.5.2"
  }
 },
 "nbformat": 4,
 "nbformat_minor": 2
}
